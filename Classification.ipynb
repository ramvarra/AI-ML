{
 "cells": [
  {
   "cell_type": "code",
   "execution_count": 196,
   "metadata": {},
   "outputs": [],
   "source": [
    "import numpy as np\n",
    "import pandas as pd\n",
    "import matplotlib.pyplot as plt\n",
    "%matplotlib inline\n",
    "\n",
    "from matplotlib.colors import ListedColormap\n",
    "\n",
    "from sklearn.model_selection import train_test_split"
   ]
  },
  {
   "cell_type": "code",
   "execution_count": 241,
   "metadata": {},
   "outputs": [
    {
     "data": {
      "image/png": "[encoded data removed]",
      "text/plain": [
       "<matplotlib.figure.Figure at 0x2046a4eaa90>"
      ]
     },
     "metadata": {},
     "output_type": "display_data"
    }
   ],
   "source": [
    "\n",
    "np.random.seed(45)\n",
    "\n",
    "def make_classification_data(m=100):\n",
    "    cov_factor = .7\n",
    "    cov = [[1, cov_factor], [cov_factor, 1]]\n",
    "    X_pos = np.random.multivariate_normal([1, 2], cov, m)\n",
    "    X_neg = np.random.multivariate_normal([0, 0], cov, m)\n",
    "    X = np.c_[np.ones(2*m), np.r_[X_pos, X_neg]]\n",
    "    y = np.r_[np.ones(m), np.zeros(m)].reshape(-1, 1)\n",
    "    return X, y\n",
    "\n",
    "def sigmoid(z):\n",
    "    return 1 / (1 + np.exp(-z))\n",
    "\n",
    "def predict(X, θ):\n",
    "    return sigmoid(np.matmul(X, θ)) >= 0.5\n",
    "\n",
    "def make_mesh(X, n=100):\n",
    "    ovr = .2\n",
    "    x1_min, x1_max = X[:, 1].min(), X[:, 1].max()\n",
    "    x1_min -= abs(x1_min) * ovr\n",
    "    x1_max += abs(x1_max) * ovr\n",
    "    \n",
    "    x2_min, x2_max = X[:, 2].min(), X[:, 2].max()\n",
    "    x2_min -= abs(x2_min) * ovr\n",
    "    x2_max += abs(x1_max) * ovr\n",
    "    \n",
    "    x1 = np.linspace(x1_min, x1_max, n)\n",
    "    x2 = np.linspace(x2_min, x2_max, n)\n",
    "    x1_mesh, x2_mesh = np.meshgrid(x1, x2)\n",
    "    X_mesh = np.c_[np.ones(x1_mesh.size), x1_mesh.ravel(), x2_mesh.ravel()]\n",
    "    return x1_mesh, x2_mesh, X_mesh\n",
    "\n",
    "\n",
    "def plot_classification_data(X, y, θ=None, figsize=(12,8)):\n",
    "    assert X.shape[0] == y.shape[0]\n",
    "    assert y.shape[1] == 1\n",
    "    \n",
    "    plt.figure(figsize=figsize)\n",
    "    \n",
    "    pos_selector = y.ravel()==1\n",
    "    plt.scatter(X[pos_selector, 1], X[pos_selector, 2], marker='+', s=100, c='g')\n",
    "    plt.scatter(X[~pos_selector, 1], X[~pos_selector, 2], marker='_', s=100, c='r')\n",
    "    if θ is not None:\n",
    "        assert θ.shape[0] == X.shape[1]\n",
    "        x1_mesh, x2_mesh, X_mesh = make_mesh(X)\n",
    "        y_mesh = predict(X_mesh, θ).reshape(x1_mesh.shape)        \n",
    "        plt.contourf(x1_mesh, x2_mesh, y_mesh, alpha=.3, cmap=ListedColormap(['r', 'g']))\n",
    "        \n",
    "        \n",
    "X, y = make_classification_data(m=100)\n",
    "X_train, X_test, y_train, y_test = train_test_split(X, y)\n",
    "plot_classification_data(X_train, y_train)"
   ]
  },
  {
   "cell_type": "code",
   "execution_count": 242,
   "metadata": {},
   "outputs": [
    {
     "data": {
      "text/plain": [
       "array([[-0.75542824],\n",
       "       [ 0.21978769],\n",
       "       [ 1.20078734]])"
      ]
     },
     "execution_count": 242,
     "metadata": {},
     "output_type": "execute_result"
    }
   ],
   "source": [
    "def linear_cost(X, y, θ):\n",
    "    return np.sum(np.square(np.matmul(X, θ) - y))/(2*len(y))\n",
    "\n",
    "def linear_gradient(X, y, θ):\n",
    "    e = np.matmul(X, θ) - y\n",
    "    dJ = np.matmul(X.T, e)/len(y)\n",
    "    return dJ\n",
    "\n",
    "def logistic_cost(X, y, θ):\n",
    "    h = sigmoid(np.matmul(X, θ))\n",
    "    inner_exp = y * np.log(h) + (1 - y) * np.log(1 - h)\n",
    "    return -np.sum(inner_exp)/len(y_train)\n",
    "\n",
    "def logistic_gradient(X, y, θ):\n",
    "    e = sigmoid(np.matmul(X, θ)) - y\n",
    "    dJ = np.matmul(X.T, e)/len(y)\n",
    "    return dJ\n",
    "\n",
    "def gradient_descent(X, y, lr=0.01, epochs=1000, ϵ=1e-4):\n",
    "    θ = np.zeros((X.shape[1], 1))\n",
    "    Jh = [logistic_cost(X, y, θ)]\n",
    "    for epoch in range(epochs):\n",
    "        dJ = logistic_gradient(X, y, θ)\n",
    "        θ = θ - (lr * dJ)\n",
    "        Jh.append(logistic_cost(X, y, θ))\n",
    "        v = abs((Jh[-1] - Jh[-2])/Jh[-2])\n",
    "        if v <= ϵ:\n",
    "            print(f'Reached min at epoch {epoch}')\n",
    "            break\n",
    "        \n",
    "    return θ, Jh\n",
    "\n",
    "θ, Jh = gradient_descent(X_train, y_train)\n",
    "θ"
   ]
  },
  {
   "cell_type": "code",
   "execution_count": 243,
   "metadata": {},
   "outputs": [
    {
     "data": {
      "text/plain": [
       "[<matplotlib.lines.Line2D at 0x2046a347748>]"
      ]
     },
     "execution_count": 243,
     "metadata": {},
     "output_type": "execute_result"
    },
    {
     "data": {
      "image/png": "[encoded data removed]",
      "text/plain": [
       "<matplotlib.figure.Figure at 0x20456cb8da0>"
      ]
     },
     "metadata": {},
     "output_type": "display_data"
    }
   ],
   "source": [
    "plt.plot(Jh)"
   ]
  },
  {
   "cell_type": "code",
   "execution_count": 244,
   "metadata": {},
   "outputs": [
    {
     "data": {
      "text/plain": [
       "0.82"
      ]
     },
     "execution_count": 244,
     "metadata": {},
     "output_type": "execute_result"
    }
   ],
   "source": [
    "# accuracy\n",
    "y_predict = predict(X_test, θ)\n",
    "np.sum(y_test == y_predict)/len(y_predict)"
   ]
  },
  {
   "cell_type": "code",
   "execution_count": 245,
   "metadata": {},
   "outputs": [
    {
     "data": {
      "image/png": "[encoded data removed]",
      "text/plain": [
       "<matplotlib.figure.Figure at 0x2046a7444a8>"
      ]
     },
     "metadata": {},
     "output_type": "display_data"
    }
   ],
   "source": [
    "plot_classification_data(X_test, y_test, θ)"
   ]
  },
  {
   "cell_type": "code",
   "execution_count": null,
   "metadata": {},
   "outputs": [],
   "source": []
  },
  {
   "cell_type": "code",
   "execution_count": null,
   "metadata": {},
   "outputs": [],
   "source": []
  }
 ],
 "metadata": {
  "kernelspec": {
   "display_name": "Python 3",
   "language": "python",
   "name": "python3"
  },
  "language_info": {
   "codemirror_mode": {
    "name": "ipython",
    "version": 3
   },
   "file_extension": ".py",
   "mimetype": "text/x-python",
   "name": "python",
   "nbconvert_exporter": "python",
   "pygments_lexer": "ipython3",
   "version": "3.6.4"
  }
 },
 "nbformat": 4,
 "nbformat_minor": 2
}
