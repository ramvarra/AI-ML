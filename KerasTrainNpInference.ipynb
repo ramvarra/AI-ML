{
 "cells": [
  {
   "cell_type": "markdown",
   "metadata": {},
   "source": [
    "### Using Weights from a Keras Trained Model to do Inference using Pure Numpy\n"
   ]
  },
  {
   "cell_type": "code",
   "execution_count": 1,
   "metadata": {},
   "outputs": [
    {
     "name": "stderr",
     "output_type": "stream",
     "text": [
      "Using TensorFlow backend.\n"
     ]
    }
   ],
   "source": [
    "import os, re\n",
    "import numpy as np\n",
    "import tensorflow as tf\n",
    "import keras\n",
    "from keras.models import Sequential\n",
    "from keras.layers import Dense, Dropout, Flatten\n",
    "import json\n",
    "\n",
    "import np_inference\n",
    "import matplotlib.pyplot as plt\n",
    "%matplotlib inline"
   ]
  },
  {
   "cell_type": "code",
   "execution_count": 2,
   "metadata": {},
   "outputs": [],
   "source": [
    "(x_train, y_train), (x_test, y_test) = tf.keras.datasets.mnist.load_data()"
   ]
  },
  {
   "cell_type": "code",
   "execution_count": 3,
   "metadata": {},
   "outputs": [
    {
     "data": {
      "text/plain": [
       "((60000, 28, 28), (60000,))"
      ]
     },
     "execution_count": 3,
     "metadata": {},
     "output_type": "execute_result"
    }
   ],
   "source": [
    "x_train.shape, y_train.shape"
   ]
  },
  {
   "cell_type": "code",
   "execution_count": 4,
   "metadata": {},
   "outputs": [
    {
     "name": "stdout",
     "output_type": "stream",
     "text": [
      "8\n"
     ]
    },
    {
     "data": {
      "image/png": "[encoded data removed]",
      "text/plain": [
       "<Figure size 432x288 with 1 Axes>"
      ]
     },
     "metadata": {
      "needs_background": "light"
     },
     "output_type": "display_data"
    }
   ],
   "source": [
    "plt.imshow(x_train[7777], cmap='Greys')\n",
    "print(y_train[7777]) "
   ]
  },
  {
   "cell_type": "code",
   "execution_count": 5,
   "metadata": {},
   "outputs": [
    {
     "name": "stdout",
     "output_type": "stream",
     "text": [
      "(60000, 784) (10000, 784) float32 float32\n",
      "(60000,) uint8 (10000,) uint8\n"
     ]
    }
   ],
   "source": [
    "# reshpae and normallize for plain NN\n",
    "# change the y_train/test to binary (Even = 1, Odd = 0)\n",
    "x_train_1 = x_train.reshape(x_train.shape[0], -1).astype(np.float32)/255\n",
    "x_test_1 = x_test.reshape(x_test.shape[0], -1).astype(np.float32)/255\n",
    "\n",
    "y_test_1 = (y_test % 2 == 0).astype(np.uint8)\n",
    "y_train_1 = (y_train % 2 == 0).astype(np.uint8)\n",
    "\n",
    "\n",
    "print(x_train_1.shape, x_test_1.shape, x_train_1.dtype, x_test_1.dtype)\n",
    "print(y_train_1.shape, y_train_1.dtype, y_test_1.shape, y_test_1.dtype)"
   ]
  },
  {
   "cell_type": "code",
   "execution_count": null,
   "metadata": {},
   "outputs": [],
   "source": [
    "plt.imshow(x_train_1[7778].reshape(28, 28), cmap='Greys')\n",
    "print(y_train_1[7778]) "
   ]
  },
  {
   "cell_type": "code",
   "execution_count": null,
   "metadata": {},
   "outputs": [],
   "source": [
    "# Train a model\n",
    "\n",
    "model = Sequential()\n",
    "\n",
    "# L1\n",
    "model.add(Dense(units=256, activation='relu', input_shape=x_train_1.shape[1:]))\n",
    "model.add(Dropout(.4))\n",
    "\n",
    "# L2\n",
    "model.add(Dense(units=128, activation='relu'))\n",
    "model.add(Dropout(.4))\n",
    "\n",
    "#L3 - Output\n",
    "model.add(Dense(units=1, activation='sigmoid'))\n",
    "\n",
    "model.summary()\n"
   ]
  },
  {
   "cell_type": "code",
   "execution_count": null,
   "metadata": {},
   "outputs": [],
   "source": [
    "model.compile(optimizer='adam', loss='binary_crossentropy', metrics=['accuracy'])\n"
   ]
  },
  {
   "cell_type": "code",
   "execution_count": null,
   "metadata": {},
   "outputs": [],
   "source": [
    "model.fit(x=x_train_1, y=y_train_1, validation_data=(x_test_1, y_test_1), epochs=10)"
   ]
  },
  {
   "cell_type": "code",
   "execution_count": null,
   "metadata": {},
   "outputs": [],
   "source": [
    "model.evaluate(x_test_1, y_test_1)"
   ]
  },
  {
   "cell_type": "code",
   "execution_count": null,
   "metadata": {},
   "outputs": [],
   "source": [
    "image_index = 7774\n",
    "plt.imshow(x_test_1[image_index].reshape(28,28), cmap='Greys')\n",
    "pred = int(model.predict(x_test_1[image_index].reshape(1,-1)) > .5)\n",
    "act = y_test_1[image_index]\n",
    "print(act, pred)"
   ]
  },
  {
   "cell_type": "code",
   "execution_count": 8,
   "metadata": {},
   "outputs": [
    {
     "name": "stdout",
     "output_type": "stream",
     "text": [
      "1 1.0\n"
     ]
    },
    {
     "data": {
      "image/png": "[encoded data removed]",
      "text/plain": [
       "<Figure size 432x288 with 1 Axes>"
      ]
     },
     "metadata": {
      "needs_background": "light"
     },
     "output_type": "display_data"
    }
   ],
   "source": [
    "weights = np_inference.load_weights('weights.npy')\n",
    "image_index = 7778\n",
    "plt.imshow(x_test_1[image_index].reshape(28,28), cmap='Greys')\n",
    "#pred_keras = model.predict(x_test_1[image_index].reshape(1,-1))[0][0]\n",
    "pred_np = np_inference.predict_np(x_test_1[image_index], weights)\n",
    "act = y_test_1[image_index]\n",
    "print(act, pred_np)\n"
   ]
  },
  {
   "cell_type": "code",
   "execution_count": null,
   "metadata": {},
   "outputs": [],
   "source": [
    "X1.shape"
   ]
  },
  {
   "cell_type": "code",
   "execution_count": null,
   "metadata": {},
   "outputs": [],
   "source": []
  }
 ],
 "metadata": {
  "kernelspec": {
   "display_name": "Python 3",
   "language": "python",
   "name": "python3"
  },
  "language_info": {
   "codemirror_mode": {
    "name": "ipython",
    "version": 3
   },
   "file_extension": ".py",
   "mimetype": "text/x-python",
   "name": "python",
   "nbconvert_exporter": "python",
   "pygments_lexer": "ipython3",
   "version": "3.7.1"
  }
 },
 "nbformat": 4,
 "nbformat_minor": 2
}
